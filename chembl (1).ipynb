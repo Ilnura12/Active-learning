{
 "cells": [
  {
   "cell_type": "code",
   "execution_count": 148,
   "id": "877dc805-7f75-427b-ae68-1fa3c5fb9e8e",
   "metadata": {},
   "outputs": [],
   "source": [
    "import pandas as pd\n",
    "import os\n",
    "from rdkit import Chem\n",
    "from rdkit.Chem import AllChem\n",
    "from rdkit import DataStructs\n",
    "from sklearn.metrics import mean_squared_error, r2_score, balanced_accuracy_score, roc_curve, auc\n",
    "from sklearn.ensemble import RandomForestClassifier, RandomForestRegressor\n",
    "from sklearn.model_selection import train_test_split\n",
    "import numpy as np\n",
    "from tqdm import tqdm\n",
    "from collections import defaultdict"
   ]
  },
  {
   "cell_type": "code",
   "execution_count": 14,
   "id": "b699c059-7fc4-4838-8382-9fcc07641be6",
   "metadata": {},
   "outputs": [],
   "source": [
    "def model(file):\n",
    "    data = pd.read_csv(f'datasets/{file}', names=['smiles', 'chembl_id', 'pKi'])     \n",
    "    data['activity'] = np.where(data.pKi > 7, 1, 0)\n",
    "\n",
    "    mols = [Chem.MolFromSmiles(str(m)) for m in data['smiles']]\n",
    "    fps = [AllChem.GetMorganFingerprintAsBitVect(m,2,nBits=1024) for m in mols]\n",
    "    np_fps = []\n",
    "\n",
    "    for fp in fps:\n",
    "        arr = np.zeros((1,))\n",
    "        DataStructs.ConvertToNumpyArray(fp,arr)\n",
    "        np_fps.append(arr)\n",
    "\n",
    "    # pKi = data['pKi'].values.tolist()\n",
    "    activity = data['activity'].values.tolist()\n",
    "\n",
    "    # x_train_external, x_test_external, y_r_train_external, y_r_test_external = train_test_split(np_fps, pKi, test_size=0.2, random_state=42)\n",
    "    x_train_external, x_test_external, y_c_train_external, y_c_test_external = train_test_split(np_fps, activity, test_size=0.2, random_state=42)\n",
    "\n",
    "    rfc = RandomForestClassifier(random_state=42, n_estimators=500, max_features='log2', n_jobs=20)\n",
    "    # rfr = RandomForestRegressor(random_state=1, n_estimators=500, max_features='log2', n_jobs=20)\n",
    "\n",
    "    rfc.fit(x_train_external, y_c_train_external)\n",
    "    y_c_pred = rfc.predict(x_test_external)\n",
    "    ba = balanced_accuracy_score(y_c_test_external, y_c_pred)\n",
    "\n",
    "    # rfr.fit(x_train_external, y_r_train_external)\n",
    "    # y_r_pred = rfc.predict(x_test_external)\n",
    "    # r2 = r2_score(y_r_test_external, y_r_pred)\n",
    "    # rmse = mean_squared_error(y_r_test_external, y_r_pred, squared=False)\n",
    "    #return ba, r2, rmse\n",
    "    return ba"
   ]
  },
  {
   "cell_type": "code",
   "execution_count": 15,
   "id": "e2350c69-cc7e-4a72-87de-34512331897d",
   "metadata": {
    "tags": []
   },
   "outputs": [
    {
     "name": "stderr",
     "output_type": "stream",
     "text": [
      "100%|██████████| 200/200 [07:34<00:00,  2.27s/it]\n"
     ]
    }
   ],
   "source": [
    "results = []\n",
    "#datasets = os.listdir('/home/ilnura/active learning/datasets')\n",
    "for element in tqdm(os.listdir('/home/ilnura/active learning/datasets')):\n",
    "    # result = list(model(element))\n",
    "    # result.append(element)\n",
    "    results.append([element, model(element)])\n"
   ]
  },
  {
   "cell_type": "code",
   "execution_count": 17,
   "id": "09786382-3460-43e4-8ac1-f8e92859e02f",
   "metadata": {},
   "outputs": [],
   "source": [
    "df = pd.DataFrame(results)\n",
    "# df.columns = ['ba', 'r2', 'rmse', 'datasdatasets/\n",
    "df.columns = ['dataset', 'ba']\n",
    "datasets_ordred_by_quality_increase = list(df.sort_values(by=['ba'], ascending=False)['dataset'])\n",
    "datasets_ordred_by_quality_decrease = list(df.sort_values(by=['ba'], ascending=True)['dataset'])"
   ]
  },
  {
   "cell_type": "code",
   "execution_count": 44,
   "id": "27927bb9-fdc9-44b9-9541-b15c74c32d4a",
   "metadata": {},
   "outputs": [],
   "source": [
    "best_ba, worst_ba = [], []\n",
    "\n",
    "for dataset in datasets_ordred_by_quality_increase:\n",
    "    if len(best_ba) < 10:\n",
    "        data = pd.read_csv(f'datasets/{dataset}', names=['smiles', 'chembl_id', 'pKi'])     \n",
    "        data['activity'] = np.where(data.pKi > 7, 1, 0)\n",
    "        activity = data['activity'].values.tolist()\n",
    "        if 0.1<=activity.count(0)/activity.count(1)<=10:\n",
    "            best_ba.append(dataset)\n",
    "        else:\n",
    "            pass       "
   ]
  },
  {
   "cell_type": "code",
   "execution_count": 145,
   "id": "2f02b967-1f3d-41b7-8fcf-6c534caea129",
   "metadata": {},
   "outputs": [],
   "source": [
    "for dataset in datasets_ordred_by_quality_decrease: \n",
    "    if len(worst_ba) < 10:\n",
    "        data = pd.read_csv(f'datasets/{dataset}', names=['smiles', 'chembl_id', 'pKi'])     \n",
    "        data['activity'] = np.where(data.pKi > 7, 1, 0)\n",
    "        activity = data['activity'].values.tolist()\n",
    "        if 0.1<=activity.count(0)/activity.count(1)<=10:\n",
    "            worst_ba.append(dataset)\n",
    "        else:\n",
    "            pass"
   ]
  },
  {
   "cell_type": "code",
   "execution_count": 47,
   "id": "4fe18cbd-79cc-43b6-acfd-93cb6e252fce",
   "metadata": {},
   "outputs": [],
   "source": [
    "def data_preparation(file):\n",
    "    data = pd.read_csv(f'datasets/{file}', names=['smiles', 'chembl_id', 'pKi'])     \n",
    "    data['activity'] = np.where(data.pKi > 7, 1, 0)\n",
    "\n",
    "    mols = [Chem.MolFromSmiles(str(m)) for m in data['smiles']]\n",
    "    fps = [AllChem.GetMorganFingerprintAsBitVect(m,2,nBits=1024) for m in mols]\n",
    "    np_fps = []\n",
    "\n",
    "    for fp in fps:\n",
    "        arr = np.zeros((1,))\n",
    "        DataStructs.ConvertToNumpyArray(fp,arr)\n",
    "        np_fps.append(arr)\n",
    "\n",
    "\n",
    "    activity = data['activity'].values.tolist()\n",
    "    x_train_external, x_test_external, y_train_external, y_test_external = train_test_split(np_fps, activity, test_size=0.2, random_state=42)\n",
    "    x_train_internal, x_test_internal, y_train_internal, y_test_internal = train_test_split(x_train_external, y_train_external,\n",
    "                                                                                                test_size=len(y_train_external)-10, random_state=2, stratify=y_train_external)\n",
    "    \n",
    "    return x_train_internal, x_test_internal, y_train_internal, y_test_internal, x_test_external, y_test_external"
   ]
  },
  {
   "cell_type": "code",
   "execution_count": 154,
   "id": "8bb3942e-cd77-4322-afb4-726a599434eb",
   "metadata": {},
   "outputs": [],
   "source": [
    "def active_learning(x_train_in, x_test_in, y_train_in, y_test_in, x_test_ex, y_test_ex, method):\n",
    "    results = []\n",
    "    number_of_iterations = len(x_test_in)//5\n",
    "    while len(results) < number_of_iterations:\n",
    "        rfc = RandomForestClassifier(random_state=42, n_estimators=500, max_features='log2', n_jobs=20)\n",
    "        rfc.fit(x_train_in, y_train_in)\n",
    "        probs = rfc.predict_proba(x_test_in)\n",
    "\n",
    "        probs_difference = []\n",
    "        prob_of_label_1 = []\n",
    "        for n, prob in enumerate(probs):\n",
    "            probs_difference.append([n, abs(prob[0]-prob[1])])\n",
    "            prob_of_label_1.append([n, prob[1]])\n",
    "        least_sure = [x[0] for x in sorted(probs_difference, key = lambda x: x[1], reverse=False)][:5]\n",
    "        least_sure.sort(reverse=True)\n",
    "        most_sure = [x[0] for x in sorted(prob_of_label_1, key = lambda x: x[1], reverse=True)][:5]\n",
    "        most_sure.sort(reverse=True)\n",
    " \n",
    "        pred = rfc.predict(x_test_ex)\n",
    "        ba = balanced_accuracy_score(y_test_ex, pred)\n",
    "        fpr, tpr, _ = roc_curve(y_test_ex, pred)\n",
    "        AUC = auc(fpr, tpr)\n",
    "        results.append([len(y_train_in),ba, AUC])\n",
    "        \n",
    "        if method == 'exploration':\n",
    "            adding_points = least_sure\n",
    "        else:\n",
    "            adding_points = most_sure\n",
    "            \n",
    "        for point in adding_points:\n",
    "            x_train_in.append(x_test_in[point])\n",
    "            y_train_in.append(y_test_in[point])\n",
    "            del x_test_in[point]\n",
    "            del y_test_in[point]\n",
    "        # print(results[-1])    \n",
    "        \n",
    "    return results"
   ]
  },
  {
   "cell_type": "code",
   "execution_count": 135,
   "id": "c9d87099-ce27-4bcc-9e41-1c3c6728da23",
   "metadata": {},
   "outputs": [
    {
     "name": "stderr",
     "output_type": "stream",
     "text": [
      "100%|██████████| 9/9 [1:11:29<00:00, 476.64s/it]\n"
     ]
    }
   ],
   "source": [
    "#results_for_best = defaultdict(dict)\n",
    "for dataset in tqdm(best_ba[1:]):\n",
    "    x_train_in, x_test_in, y_train_in, y_test_in, x_test_ex, y_test_ex = data_preparation(dataset) \n",
    "    results_for_best[dataset]['exploration'] = active_learning(x_train_in, x_test_in, y_train_in, y_test_in, x_test_ex, y_test_ex,'exploration')\n",
    "    x_train_in, x_test_in, y_train_in, y_test_in, x_test_ex, y_test_ex = data_preparation(dataset) \n",
    "    results_for_best[dataset]['exploitation'] = active_learning(x_train_in, x_test_in, y_train_in, y_test_in, x_test_ex, y_test_ex,'exploitation')\n",
    "    "
   ]
  },
  {
   "cell_type": "code",
   "execution_count": 147,
   "id": "f869bc0f-c977-4fa1-a397-5917d1f56af0",
   "metadata": {},
   "outputs": [
    {
     "name": "stderr",
     "output_type": "stream",
     "text": [
      "100%|██████████| 10/10 [50:44<00:00, 304.41s/it]\n"
     ]
    }
   ],
   "source": [
    "results_for_worst = defaultdict(dict)\n",
    "for dataset in tqdm(worst_ba):\n",
    "    x_train_in, x_test_in, y_train_in, y_test_in, x_test_ex, y_test_ex = data_preparation(dataset)\n",
    "    results_for_worst[dataset]['exploration'] = active_learning(x_train_in, x_test_in, y_train_in, y_test_in, x_test_ex, y_test_ex,'exploration')\n",
    "    x_train_in, x_test_in, y_train_in, y_test_in, x_test_ex, y_test_ex = data_preparation(dataset)\n",
    "    results_for_worst[dataset]['exploitation'] = active_learning(x_train_in, x_test_in, y_train_in, y_test_in, x_test_ex, y_test_ex,'exploitation')\n"
   ]
  },
  {
   "cell_type": "code",
   "execution_count": null,
   "id": "a7905972-cdcd-4d45-9f1e-98ed4087e4e9",
   "metadata": {},
   "outputs": [],
   "source": []
  }
 ],
 "metadata": {
  "kernelspec": {
   "display_name": "Python (ilnura)",
   "language": "python",
   "name": "ilnura"
  },
  "language_info": {
   "codemirror_mode": {
    "name": "ipython",
    "version": 3
   },
   "file_extension": ".py",
   "mimetype": "text/x-python",
   "name": "python",
   "nbconvert_exporter": "python",
   "pygments_lexer": "ipython3",
   "version": "3.7.5"
  }
 },
 "nbformat": 4,
 "nbformat_minor": 5
}
